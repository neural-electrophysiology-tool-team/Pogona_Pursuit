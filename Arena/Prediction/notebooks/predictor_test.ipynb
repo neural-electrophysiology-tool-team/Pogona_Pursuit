{
 "cells": [
  {
   "cell_type": "code",
   "execution_count": 1,
   "metadata": {},
   "outputs": [],
   "source": [
    "import os\n",
    "os.chdir('/app/Pogona_realtime/Arena')"
   ]
  },
  {
   "cell_type": "code",
   "execution_count": 23,
   "metadata": {},
   "outputs": [],
   "source": [
    "import numpy as np\n",
    "import pandas as pd\n",
    "import imp\n",
    "import matplotlib.pyplot as plt\n",
    "import seaborn as sns\n",
    "import torch\n",
    "import time\n",
    "from tqdm.auto import tqdm\n",
    "from functools import partial\n",
    "\n",
    "from Prediction import dataset\n",
    "from Prediction import train_eval\n",
    "from Prediction import predictor\n",
    "from Prediction import visualize\n",
    "from Prediction import dataset\n",
    "from Prediction import kalman_predict\n",
    "from Prediction import seq2seq_predict\n",
    "from Prediction import calibration as calib\n",
    "from Prediction import traj_models"
   ]
  },
  {
   "cell_type": "code",
   "execution_count": 120,
   "metadata": {},
   "outputs": [
    {
     "data": {
      "text/plain": [
       "<module 'Prediction.traj_models' from '/app/Pogona_realtime/Arena/Prediction/traj_models.py'>"
      ]
     },
     "execution_count": 120,
     "metadata": {},
     "output_type": "execute_result"
    }
   ],
   "source": [
    "imp.reload(dataset)\n",
    "imp.reload(train_eval)\n",
    "imp.reload(seq2seq_predict)\n",
    "imp.reload(predictor)\n",
    "imp.reload(visualize)\n",
    "imp.reload(dataset)\n",
    "imp.reload(kalman_predict)\n",
    "imp.reload(traj_models)"
   ]
  },
  {
   "cell_type": "markdown",
   "metadata": {},
   "source": [
    "# Init Predictor"
   ]
  },
  {
   "cell_type": "code",
   "execution_count": 121,
   "metadata": {},
   "outputs": [],
   "source": [
    "kalman_predictor = kalman_predict.KalmanPredictor(forecast_horizon=20, \n",
    "                                                  num_derivatives=1, \n",
    "                                                  q_var=2.145, r_var=120.0)\n",
    "pred = predictor.HitPredictor(kalman_predictor, dir_path='logs')"
   ]
  },
  {
   "cell_type": "code",
   "execution_count": 108,
   "metadata": {},
   "outputs": [
    {
     "data": {
      "application/vnd.jupyter.widget-view+json": {
       "model_id": "cd65ebe06fef4c64bb0510932009243b",
       "version_major": 2,
       "version_minor": 0
      },
      "text/plain": [
       "HBox(children=(FloatProgress(value=0.0, max=322.0), HTML(value='')))"
      ]
     },
     "metadata": {},
     "output_type": "display_data"
    },
    {
     "name": "stdout",
     "output_type": "stream",
     "text": [
      "\n",
      "Loaded 304 trials. 18 were not loaded.\n"
     ]
    }
   ],
   "source": [
    "trial_paths = dataset.select_analyzed_trials_paths()\n",
    "trial_names = [dataset.trial_path_to_name(p) for p in trial_paths]\n",
    "df = dataset.load_trial_data(trial_names)"
   ]
  },
  {
   "cell_type": "markdown",
   "metadata": {},
   "source": [
    "# Test Run Predictor"
   ]
  },
  {
   "cell_type": "code",
   "execution_count": 21,
   "metadata": {},
   "outputs": [],
   "source": [
    "tdf = df.loc[df.index.unique()[0]]\n",
    "bbox_cols = [tdf.columns.get_loc(c) for c in ['x1', 'y1', 'x2', 'y2']]"
   ]
  },
  {
   "cell_type": "code",
   "execution_count": 122,
   "metadata": {},
   "outputs": [
    {
     "data": {
      "application/vnd.jupyter.widget-view+json": {
       "model_id": "88e4ef865fcd4094a8aef23f41757e54",
       "version_major": 2,
       "version_minor": 0
      },
      "text/plain": [
       "HBox(children=(FloatProgress(value=0.0, max=512.0), HTML(value='')))"
      ]
     },
     "metadata": {},
     "output_type": "display_data"
    },
    {
     "name": "stdout",
     "output_type": "stream",
     "text": [
      "\n"
     ]
    }
   ],
   "source": [
    "for i in tqdm(range(512)):\n",
    "    pred.handle_detection(tdf.iloc[i, bbox_cols])\n",
    "    time.sleep(0.016)"
   ]
  },
  {
   "cell_type": "code",
   "execution_count": 123,
   "metadata": {},
   "outputs": [
    {
     "name": "stdout",
     "output_type": "stream",
     "text": [
      "(512, 20, 4)\n"
     ]
    }
   ],
   "source": [
    "pred.save_predictions()"
   ]
  },
  {
   "cell_type": "code",
   "execution_count": 126,
   "metadata": {},
   "outputs": [],
   "source": [
    "fdf = pd.read_csv('logs/forecasts.csv', header=[0,1] )"
   ]
  },
  {
   "cell_type": "code",
   "execution_count": 145,
   "metadata": {},
   "outputs": [
    {
     "data": {
      "text/html": [
       "<div>\n",
       "<style scoped>\n",
       "    .dataframe tbody tr th:only-of-type {\n",
       "        vertical-align: middle;\n",
       "    }\n",
       "\n",
       "    .dataframe tbody tr th {\n",
       "        vertical-align: top;\n",
       "    }\n",
       "\n",
       "    .dataframe thead tr th {\n",
       "        text-align: left;\n",
       "    }\n",
       "</style>\n",
       "<table border=\"1\" class=\"dataframe\">\n",
       "  <thead>\n",
       "    <tr>\n",
       "      <th></th>\n",
       "      <th colspan=\"4\" halign=\"left\">19</th>\n",
       "    </tr>\n",
       "    <tr>\n",
       "      <th></th>\n",
       "      <th>x1</th>\n",
       "      <th>y1</th>\n",
       "      <th>x2</th>\n",
       "      <th>y2</th>\n",
       "    </tr>\n",
       "  </thead>\n",
       "  <tbody>\n",
       "    <tr>\n",
       "      <th>0</th>\n",
       "      <td>NaN</td>\n",
       "      <td>NaN</td>\n",
       "      <td>NaN</td>\n",
       "      <td>NaN</td>\n",
       "    </tr>\n",
       "    <tr>\n",
       "      <th>1</th>\n",
       "      <td>1082.549567</td>\n",
       "      <td>2073.400834</td>\n",
       "      <td>857.639888</td>\n",
       "      <td>1871.719505</td>\n",
       "    </tr>\n",
       "    <tr>\n",
       "      <th>2</th>\n",
       "      <td>1082.882458</td>\n",
       "      <td>2070.833907</td>\n",
       "      <td>857.167160</td>\n",
       "      <td>1879.214336</td>\n",
       "    </tr>\n",
       "    <tr>\n",
       "      <th>3</th>\n",
       "      <td>1083.192982</td>\n",
       "      <td>2061.154178</td>\n",
       "      <td>858.504650</td>\n",
       "      <td>1889.599855</td>\n",
       "    </tr>\n",
       "    <tr>\n",
       "      <th>4</th>\n",
       "      <td>1085.600261</td>\n",
       "      <td>2052.201837</td>\n",
       "      <td>856.187315</td>\n",
       "      <td>1902.649009</td>\n",
       "    </tr>\n",
       "    <tr>\n",
       "      <th>...</th>\n",
       "      <td>...</td>\n",
       "      <td>...</td>\n",
       "      <td>...</td>\n",
       "      <td>...</td>\n",
       "    </tr>\n",
       "    <tr>\n",
       "      <th>507</th>\n",
       "      <td>708.974228</td>\n",
       "      <td>1269.596624</td>\n",
       "      <td>441.147755</td>\n",
       "      <td>1005.778180</td>\n",
       "    </tr>\n",
       "    <tr>\n",
       "      <th>508</th>\n",
       "      <td>710.469591</td>\n",
       "      <td>1274.324800</td>\n",
       "      <td>441.653990</td>\n",
       "      <td>996.408320</td>\n",
       "    </tr>\n",
       "    <tr>\n",
       "      <th>509</th>\n",
       "      <td>710.079273</td>\n",
       "      <td>1274.405108</td>\n",
       "      <td>441.056655</td>\n",
       "      <td>991.071961</td>\n",
       "    </tr>\n",
       "    <tr>\n",
       "      <th>510</th>\n",
       "      <td>705.982952</td>\n",
       "      <td>1267.134554</td>\n",
       "      <td>449.545110</td>\n",
       "      <td>947.739914</td>\n",
       "    </tr>\n",
       "    <tr>\n",
       "      <th>511</th>\n",
       "      <td>701.789456</td>\n",
       "      <td>1263.536273</td>\n",
       "      <td>454.532812</td>\n",
       "      <td>923.477787</td>\n",
       "    </tr>\n",
       "  </tbody>\n",
       "</table>\n",
       "<p>512 rows × 4 columns</p>\n",
       "</div>"
      ],
      "text/plain": [
       "              19                                      \n",
       "              x1           y1          x2           y2\n",
       "0            NaN          NaN         NaN          NaN\n",
       "1    1082.549567  2073.400834  857.639888  1871.719505\n",
       "2    1082.882458  2070.833907  857.167160  1879.214336\n",
       "3    1083.192982  2061.154178  858.504650  1889.599855\n",
       "4    1085.600261  2052.201837  856.187315  1902.649009\n",
       "..           ...          ...         ...          ...\n",
       "507   708.974228  1269.596624  441.147755  1005.778180\n",
       "508   710.469591  1274.324800  441.653990   996.408320\n",
       "509   710.079273  1274.405108  441.056655   991.071961\n",
       "510   705.982952  1267.134554  449.545110   947.739914\n",
       "511   701.789456  1263.536273  454.532812   923.477787\n",
       "\n",
       "[512 rows x 4 columns]"
      ]
     },
     "execution_count": 145,
     "metadata": {},
     "output_type": "execute_result"
    }
   ],
   "source": [
    "# access specific multiindex columns\n",
    "fdf.iloc[:, fdf.columns.get_level_values(0)=='19']"
   ]
  },
  {
   "cell_type": "code",
   "execution_count": null,
   "metadata": {},
   "outputs": [],
   "source": []
  }
 ],
 "metadata": {
  "kernelspec": {
   "display_name": "Python [conda env:py37]",
   "language": "python",
   "name": "conda-env-py37-py"
  },
  "language_info": {
   "codemirror_mode": {
    "name": "ipython",
    "version": 3
   },
   "file_extension": ".py",
   "mimetype": "text/x-python",
   "name": "python",
   "nbconvert_exporter": "python",
   "pygments_lexer": "ipython3",
   "version": "3.7.7"
  }
 },
 "nbformat": 4,
 "nbformat_minor": 4
}
